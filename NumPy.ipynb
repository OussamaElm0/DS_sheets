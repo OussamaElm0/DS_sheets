{
 "cells": [
  {
   "cell_type": "markdown",
   "id": "1f1dbab6-90c3-485a-9a13-3996036cc3b7",
   "metadata": {},
   "source": [
    "# NumPy: Numerical Python\n",
    "\n",
    "NumPy is a Python library that makes it easy to work with numbers and do math with large sets of data, especially using arrays (like lists of numbers). It's super fast and great for things like science, engineering, and data analysis."
   ]
  },
  {
   "cell_type": "code",
   "execution_count": 7,
   "id": "054d7c18-454b-4bb4-aa8a-2e50d6e68cc1",
   "metadata": {},
   "outputs": [],
   "source": [
    "import numpy as np"
   ]
  },
  {
   "cell_type": "markdown",
   "id": "ecf22bd6-a1dc-4e18-b94d-bb5f3118ae46",
   "metadata": {
    "jp-MarkdownHeadingCollapsed": true
   },
   "source": [
    "## Summary\n",
    "\n",
    "- Array Creation\n",
    "- Array Manipulation\n",
    "- Array Inspection\n",
    "- Indexing and Filtering\n",
    "- Math Operations\n",
    "- Random\n",
    "- Statistics\n",
    "- Set Operations"
   ]
  },
  {
   "cell_type": "markdown",
   "id": "b7e8649d-1ca4-4273-98fd-21b8fd01b259",
   "metadata": {},
   "source": [
    "## Array Creation"
   ]
  },
  {
   "cell_type": "markdown",
   "id": "958798a0-ed0f-4b50-b999-9ac00a030ecf",
   "metadata": {
    "jp-MarkdownHeadingCollapsed": true
   },
   "source": [
    "### np.array(object)\n",
    "\n",
    "- Creates a NumPy array from a list.\n",
    "- Converts a regular Python list into a NumPy array. Enables vectorized operations and methods."
   ]
  },
  {
   "cell_type": "code",
   "execution_count": 14,
   "id": "07f6107f-2405-4eec-b1dd-a91de662581e",
   "metadata": {},
   "outputs": [
    {
     "data": {
      "text/plain": [
       "array([1, 2, 3])"
      ]
     },
     "execution_count": 14,
     "metadata": {},
     "output_type": "execute_result"
    }
   ],
   "source": [
    "np.array([1, 2, 3])"
   ]
  },
  {
   "cell_type": "markdown",
   "id": "a6d7ce1d-2edc-4772-a349-d0b2d3c8afca",
   "metadata": {
    "jp-MarkdownHeadingCollapsed": true
   },
   "source": [
    "### np.zeros(shape, dtype=float)\n",
    "\n",
    "- Creates an array filled with zeros.\n",
    "- Returns a (X)x(Y) array of zeros. Useful for initialization."
   ]
  },
  {
   "cell_type": "code",
   "execution_count": 17,
   "id": "faad66d3-5446-4b65-b3da-bc5cb4ed6258",
   "metadata": {},
   "outputs": [
    {
     "data": {
      "text/plain": [
       "array([[0., 0.],\n",
       "       [0., 0.]])"
      ]
     },
     "execution_count": 17,
     "metadata": {},
     "output_type": "execute_result"
    }
   ],
   "source": [
    "np.zeros((2, 2))"
   ]
  },
  {
   "cell_type": "markdown",
   "id": "e2c416c3-aa24-497a-801f-6ea1afd3f2eb",
   "metadata": {},
   "source": [
    "### np.ones(shape, dtype=float)\n",
    "\n",
    "- Creates an array filled with ones.\n",
    "- Similar to zeros, but filled with ones."
   ]
  },
  {
   "cell_type": "code",
   "execution_count": 23,
   "id": "411ff923-295d-48f2-9a84-9e7534dbc3ee",
   "metadata": {},
   "outputs": [
    {
     "data": {
      "text/plain": [
       "array([[1., 1., 1.],\n",
       "       [1., 1., 1.]])"
      ]
     },
     "execution_count": 23,
     "metadata": {},
     "output_type": "execute_result"
    }
   ],
   "source": [
    "np.ones((2, 3))"
   ]
  },
  {
   "cell_type": "markdown",
   "id": "d08485aa-f8c6-42f9-85d9-fcb2fad3b3b5",
   "metadata": {},
   "source": [
    "### np.full(shape, fill_value)\n",
    "\n",
    "- Creates an array with a constant value.\n",
    "- Fills the entire array with the given number."
   ]
  },
  {
   "cell_type": "code",
   "execution_count": 25,
   "id": "020036b3-07cc-4859-af28-871a7365420c",
   "metadata": {},
   "outputs": [
    {
     "data": {
      "text/plain": [
       "array([[7, 7],\n",
       "       [7, 7]])"
      ]
     },
     "execution_count": 25,
     "metadata": {},
     "output_type": "execute_result"
    }
   ],
   "source": [
    "np.full((2, 2), 7)"
   ]
  },
  {
   "cell_type": "markdown",
   "id": "ca8b4186-b108-4eea-aab2-0abb06f0e8c6",
   "metadata": {},
   "source": [
    "### np.arange(start, stop, step)\n",
    "\n",
    "- Array of evenly spaced values.\n",
    "- Like Python’s range() but returns a NumPy array."
   ]
  },
  {
   "cell_type": "code",
   "execution_count": 29,
   "id": "fb8a04ff-bed2-44ed-b88e-ab1345407206",
   "metadata": {},
   "outputs": [
    {
     "data": {
      "text/plain": [
       "array([0, 2, 4, 6, 8])"
      ]
     },
     "execution_count": 29,
     "metadata": {},
     "output_type": "execute_result"
    }
   ],
   "source": [
    "np.arange(0, 10, 2)"
   ]
  },
  {
   "cell_type": "markdown",
   "id": "583ae8d8-5397-40c2-acc0-59674dce07e2",
   "metadata": {},
   "source": [
    "### np.linspace(start, stop, num)\n",
    "\n",
    "- Evenly spaced values over interval\n",
    "- Returns 5 values between 0 and 1 including both ends."
   ]
  },
  {
   "cell_type": "code",
   "execution_count": 32,
   "id": "ac38add9-79f2-4112-9271-7945c22f9dd6",
   "metadata": {},
   "outputs": [
    {
     "data": {
      "text/plain": [
       "array([0.  , 0.25, 0.5 , 0.75, 1.  ])"
      ]
     },
     "execution_count": 32,
     "metadata": {},
     "output_type": "execute_result"
    }
   ],
   "source": [
    "np.linspace(0, 1, 5)"
   ]
  },
  {
   "cell_type": "markdown",
   "id": "aa831726-9825-4ced-9142-ef450b423851",
   "metadata": {},
   "source": [
    "### np.random.rand(shape)\n",
    "\n",
    "- Random numbers from uniform dist.\n",
    "-  Useful for simulations or initializing weights."
   ]
  },
  {
   "cell_type": "code",
   "execution_count": 35,
   "id": "0bd4025a-3d51-43de-97fc-77ec57d702ba",
   "metadata": {},
   "outputs": [
    {
     "data": {
      "text/plain": [
       "array([[0.18970959, 0.25992134],\n",
       "       [0.35697874, 0.82068057]])"
      ]
     },
     "execution_count": 35,
     "metadata": {},
     "output_type": "execute_result"
    }
   ],
   "source": [
    "np.random.rand(2, 2)"
   ]
  },
  {
   "cell_type": "markdown",
   "id": "feaf7578-25a1-46c3-b88c-3bf6c41a3b65",
   "metadata": {},
   "source": [
    "### np.random.randint(low, high, size)\n",
    "\n",
    "- Random integers in a range\n",
    "- Creates a 2x2 array with random integers from 0 to 9 :"
   ]
  },
  {
   "cell_type": "code",
   "execution_count": 58,
   "id": "68454ad1-e420-4c54-bc01-60d1e7370a98",
   "metadata": {},
   "outputs": [
    {
     "data": {
      "text/plain": [
       "array([[3, 4],\n",
       "       [6, 7]])"
      ]
     },
     "execution_count": 58,
     "metadata": {},
     "output_type": "execute_result"
    }
   ],
   "source": [
    "np.random.randint(1, 10, (2, 2))"
   ]
  },
  {
   "cell_type": "markdown",
   "id": "102f0d8a-85fa-48ca-b421-3154fd120d53",
   "metadata": {},
   "source": [
    "## Array Manipulation"
   ]
  },
  {
   "cell_type": "markdown",
   "id": "7eb9e69b-3667-4024-abd2-eb93f516abc6",
   "metadata": {},
   "source": [
    "### array.reshape(new_shape)\n",
    "- Changes the shape of an array without changing its data."
   ]
  },
  {
   "cell_type": "markdown",
   "id": "4040fcba-9e89-4c45-8850-543565704c97",
   "metadata": {},
   "source": [
    "arr = np.arange(6)\n",
    "reshaped = arr.reshape((2, 3))\n",
    "\n",
    "print(f\"Original array: {arr}\")\n",
    "print(f\"Reshaped array: {reshaped}\")"
   ]
  },
  {
   "cell_type": "markdown",
   "id": "3208ef7b-785c-48ef-a52c-89be07c3616d",
   "metadata": {},
   "source": [
    "### array.flatten()\n",
    "- Flattens a multi-dimensional array into a 1D array."
   ]
  },
  {
   "cell_type": "code",
   "execution_count": 27,
   "id": "ba7f765c-286b-40c8-9c8b-e56b82dd4203",
   "metadata": {},
   "outputs": [
    {
     "name": "stdout",
     "output_type": "stream",
     "text": [
      "Original array: [[1 2]\n",
      " [3 4]]\n",
      "Flatten array: [1 2 3 4]\n"
     ]
    }
   ],
   "source": [
    "arr = np.array([[1, 2], [3, 4]])\n",
    "flat = arr.flatten()\n",
    "\n",
    "print(f\"Original array: {arr}\")\n",
    "print(f\"Flatten array: {flat}\")"
   ]
  },
  {
   "cell_type": "markdown",
   "id": "c78544ab-f58f-4e49-a711-6783868f19ee",
   "metadata": {},
   "source": [
    "**Explanation**: Converts [[1, 2], [3, 4]] into [1, 2, 3, 4]. Always returns a copy"
   ]
  },
  {
   "cell_type": "markdown",
   "id": "a0419e3e-8f2a-4b0b-b892-a4e7cfaa1ab2",
   "metadata": {},
   "source": [
    "### array.reval()\n",
    "- Also flattens an array, but returns a view when possible (more memory efficient)."
   ]
  },
  {
   "cell_type": "code",
   "execution_count": 30,
   "id": "1d4f72a8-d324-468b-8da9-1db6edfbcef5",
   "metadata": {},
   "outputs": [
    {
     "name": "stdout",
     "output_type": "stream",
     "text": [
      "Original array: [[1 2]\n",
      " [3 4]]\n",
      "Ravel array: [1 2 3 4]\n"
     ]
    }
   ],
   "source": [
    "arr = np.array([[1, 2], [3, 4]])\n",
    "r = arr.ravel()\n",
    "\n",
    "print(f\"Original array: {arr}\")\n",
    "print(f\"Ravel array: {r}\")"
   ]
  },
  {
   "cell_type": "markdown",
   "id": "831a9d3d-b61e-4369-ac88-5fb93be28d22",
   "metadata": {},
   "source": [
    "**Explanation**: Works like flatten() but doesn't copy data unless needed."
   ]
  },
  {
   "cell_type": "markdown",
   "id": "f2a1a28e-6c16-4171-a558-5d03c2155ec1",
   "metadata": {},
   "source": [
    "### array.transpose()  __OR__  array.T\n",
    "- Swaps the axes of the array (i.e., rows become columns).\n"
   ]
  },
  {
   "cell_type": "code",
   "execution_count": 39,
   "id": "8a67664c-f720-4c67-af3d-5971088cf6cc",
   "metadata": {},
   "outputs": [
    {
     "name": "stdout",
     "output_type": "stream",
     "text": [
      "Original array: [[1 2]\n",
      " [3 4]]\n",
      "Transposed array: [[1 3]\n",
      " [2 4]]\n"
     ]
    }
   ],
   "source": [
    "arr = np.array([[1, 2], [3, 4]])\n",
    "transposed = arr.T\n",
    "\n",
    "print(f\"Original array: {arr}\")\n",
    "print(f\"Transposed array: {transposed}\")"
   ]
  },
  {
   "cell_type": "markdown",
   "id": "29931f88-56cc-410c-8355-9087549b6a20",
   "metadata": {},
   "source": [
    "**Explanation**: Converts: [[1, 2],[3, 4]]  __into__  [[1, 3], [2, 4]]"
   ]
  },
  {
   "cell_type": "markdown",
   "id": "5cd0204d-b3ec-4544-96a9-ec187f7dae8b",
   "metadata": {},
   "source": [
    "### array.resize(new_shape)\n",
    "- Changes the shape of an array in-place"
   ]
  },
  {
   "cell_type": "code",
   "execution_count": 46,
   "id": "07128760-a218-4e1e-ada9-78a087d0b66d",
   "metadata": {},
   "outputs": [
    {
     "name": "stdout",
     "output_type": "stream",
     "text": [
      "Original array: [1 2 3 4]\n",
      "Resized array [[1 2]\n",
      " [3 4]]\n"
     ]
    }
   ],
   "source": [
    "arr = np.array([1, 2, 3, 4])\n",
    "print(f\"Original array: {arr}\")\n",
    "\n",
    "arr.resize((2, 2))\n",
    "print(f\"Resized array {arr}\")"
   ]
  },
  {
   "cell_type": "markdown",
   "id": "0ca55f25-439f-4844-ae55-5195cf0f0784",
   "metadata": {},
   "source": [
    "**Explanation**: Unlike reshape(), this modifies the original array and can fill with garbage values if not enough data."
   ]
  },
  {
   "cell_type": "markdown",
   "id": "2344cde1-4536-46a5-9359-f25acc2e9b0e",
   "metadata": {},
   "source": [
    "### np.concatenate((a1, a2), axis=0)\n",
    "- Combines multiple arrays along an axis.\n",
    "- Merges two arrays vetrically"
   ]
  },
  {
   "cell_type": "code",
   "execution_count": 50,
   "id": "755e9d1d-9958-4542-8738-687cdf87b73a",
   "metadata": {},
   "outputs": [
    {
     "data": {
      "text/plain": [
       "array([[1, 2],\n",
       "       [3, 4]])"
      ]
     },
     "execution_count": 50,
     "metadata": {},
     "output_type": "execute_result"
    }
   ],
   "source": [
    "a = np.array([[1, 2]])\n",
    "b = np.array([[3, 4]])\n",
    "result = np.concatenate((a, b), axis=0)\n",
    "\n",
    "result"
   ]
  },
  {
   "cell_type": "markdown",
   "id": "6566d4a0-e899-4900-9495-110e63c00010",
   "metadata": {},
   "source": [
    "### np.stack((a1, a2), axis=0)\n",
    "- Stacks arrays along a new axis\n",
    "- Creates a new dimension"
   ]
  },
  {
   "cell_type": "code",
   "execution_count": 58,
   "id": "6125ce38-f135-4f81-93c7-de58b3ab5be3",
   "metadata": {},
   "outputs": [
    {
     "data": {
      "text/plain": [
       "array([[1, 2],\n",
       "       [3, 4]])"
      ]
     },
     "execution_count": 58,
     "metadata": {},
     "output_type": "execute_result"
    }
   ],
   "source": [
    "a = np.array([1, 2])\n",
    "b = np.array([3, 4])\n",
    "np.stack((a, b), axis=0)"
   ]
  },
  {
   "cell_type": "markdown",
   "id": "06805b1f-2ad5-4bb6-a61a-22d2e111b014",
   "metadata": {},
   "source": [
    "### np.vstack __AND__ np.hstack()\n",
    "- ertical and horizontal stacking shortcuts."
   ]
  },
  {
   "cell_type": "code",
   "execution_count": 66,
   "id": "6882a7fa-21f2-4744-b29e-67e3f93502d1",
   "metadata": {},
   "outputs": [
    {
     "name": "stdout",
     "output_type": "stream",
     "text": [
      "Vertical: [[1 2]\n",
      " [3 4]]\n",
      "Horizontal: [1 2 3 4]\n"
     ]
    }
   ],
   "source": [
    "a = np.array([1, 2])\n",
    "b = np.array([3, 4])\n",
    "\n",
    "print(f\"Vertical: {np.vstack((a, b))}\")\n",
    "print(f\"Horizontal: {np.hstack((a, b))}\")\n"
   ]
  },
  {
   "cell_type": "code",
   "execution_count": null,
   "id": "af018faa-998f-482e-a90b-03e59ba4e9c6",
   "metadata": {},
   "outputs": [],
   "source": [
    "### np.split() __OR__ np.array_split()\n",
    "- Splits array into multiple sub-"
   ]
  }
 ],
 "metadata": {
  "kernelspec": {
   "display_name": "Python [conda env:base] *",
   "language": "python",
   "name": "conda-base-py"
  },
  "language_info": {
   "codemirror_mode": {
    "name": "ipython",
    "version": 3
   },
   "file_extension": ".py",
   "mimetype": "text/x-python",
   "name": "python",
   "nbconvert_exporter": "python",
   "pygments_lexer": "ipython3",
   "version": "3.12.7"
  }
 },
 "nbformat": 4,
 "nbformat_minor": 5
}
